{
 "cells": [
  {
   "cell_type": "code",
   "execution_count": 1,
   "id": "d500d399-baf6-4efc-b829-840e1cc62547",
   "metadata": {},
   "outputs": [],
   "source": [
    "# pip install opencv-python\n",
    "import cv2"
   ]
  },
  {
   "cell_type": "code",
   "execution_count": 3,
   "id": "035322c6-f6ae-471c-9545-0a5fe695ae84",
   "metadata": {},
   "outputs": [],
   "source": [
    "# video_cap = cv2.VideoCapture(0)  #used 0 for using camera in run time\n",
    "\n",
    "# while True:\n",
    "#     ret, video_data = video_cap.read()\n",
    "#     cv2.imshow(\"video_live\", video_data) \n",
    "#     if cv2.waitKey(10) == ord(\"a\"):\n",
    "#         break\n",
    "# video_cap.release()\n",
    "        "
   ]
  },
  {
   "cell_type": "code",
   "execution_count": null,
   "id": "22be110f-ac59-4f3c-818d-dc9aea405fbe",
   "metadata": {},
   "outputs": [],
   "source": [
    "#C:\\Users\\juiee\\anaconda3\\Lib\\site-packages\\cv2\\data \n",
    "\n",
    "face_cap = cv2.CascadeClassifier(\"C:/Users/rishi/anaconda3/Lib/site-packages/cv2/data/haarcascade_frontalface_default.xml\")\n",
    "\n",
    "video_cap = cv2.VideoCapture(0)  #used 0 for using camera in run time\n",
    "\n",
    "while True:\n",
    "    ret, video_data = video_cap.read()\n",
    "    col = cv2.cvtColor(video_data,cv2.COLOR_BGR2GRAY)  #convert it in black and white\n",
    "    faces = face_cap.detectMultiScale(\n",
    "        col,\n",
    "        scaleFactor = 1.1,\n",
    "        minNeighbors = 5,\n",
    "        minSize = (30,30),\n",
    "        flags = cv2.CASCADE_SCALE_IMAGE\n",
    "    )\n",
    "    for(x,y,w,h) in faces:\n",
    "        cv2.rectangle(video_data, (x,y), (x+w,y+h), (0,255,0), 2)\n",
    "    \n",
    "    cv2.imshow(\"video_live\", video_data) \n",
    "    if cv2.waitKey(10) == ord(\"a\"):\n",
    "        break\n",
    "video_cap.release()"
   ]
  }
 ],
 "metadata": {
  "kernelspec": {
   "display_name": "Python 3 (ipykernel)",
   "language": "python",
   "name": "python3"
  },
  "language_info": {
   "codemirror_mode": {
    "name": "ipython",
    "version": 3
   },
   "file_extension": ".py",
   "mimetype": "text/x-python",
   "name": "python",
   "nbconvert_exporter": "python",
   "pygments_lexer": "ipython3",
   "version": "3.12.7"
  }
 },
 "nbformat": 4,
 "nbformat_minor": 5
}
